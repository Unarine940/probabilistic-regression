{
  "nbformat": 4,
  "nbformat_minor": 0,
  "metadata": {
    "colab": {
      "name": "probabilistic.ipynb",
      "provenance": [],
      "collapsed_sections": []
    },
    "kernelspec": {
      "name": "python3",
      "display_name": "Python 3"
    }
  },
  "cells": [
    {
      "cell_type": "code",
      "metadata": {
        "id": "ayzWunW0WXKB",
        "colab_type": "code",
        "colab": {}
      },
      "source": [
        "import numpy as np\n",
        "import matplotlib.pyplot as plt\n",
        "from scipy.stats import distributions as dist"
      ],
      "execution_count": 0,
      "outputs": []
    },
    {
      "cell_type": "code",
      "metadata": {
        "id": "Atnrl9sRXBZ3",
        "colab_type": "code",
        "colab": {}
      },
      "source": [
        "n = 100\n",
        "x = dist.uniform(0,20).rvs(n)\n",
        "x = x[np.argsort(x)]\n",
        "y1_true = 4 + 0.5*x\n",
        "y_obs = y1_true + dist.norm(0,0.5).rvs(n)\n",
        "\n",
        "X = np.c_[np.ones(n),x]"
      ],
      "execution_count": 0,
      "outputs": []
    },
    {
      "cell_type": "code",
      "metadata": {
        "id": "FVe52AveXBPz",
        "colab_type": "code",
        "colab": {}
      },
      "source": [
        "Theta = np.linalg.inv(X.T.dot(X)).dot(X.T).dot(y_obs)"
      ],
      "execution_count": 0,
      "outputs": []
    },
    {
      "cell_type": "code",
      "metadata": {
        "id": "6EBmVT8LXBJd",
        "colab_type": "code",
        "colab": {}
      },
      "source": [
        "sigma_squared = 1/n * sum(y1_true - y_obs )**2"
      ],
      "execution_count": 0,
      "outputs": []
    },
    {
      "cell_type": "code",
      "metadata": {
        "id": "Yo8-_rQGXuFr",
        "colab_type": "code",
        "colab": {}
      },
      "source": [
        "mu = X.dot(Theta)"
      ],
      "execution_count": 0,
      "outputs": []
    },
    {
      "cell_type": "code",
      "metadata": {
        "id": "0k95bu9xXuCO",
        "colab_type": "code",
        "colab": {}
      },
      "source": [
        "s = np.random.normal(mu, sigma_squared, 100)"
      ],
      "execution_count": 0,
      "outputs": []
    },
    {
      "cell_type": "code",
      "metadata": {
        "id": "pbn7Qt_BXt-Y",
        "colab_type": "code",
        "colab": {}
      },
      "source": [
        "x_test = dist.uniform(20,25).rvs(n)\n",
        "X_test = np.c_[np.ones(n),x_test]"
      ],
      "execution_count": 0,
      "outputs": []
    },
    {
      "cell_type": "code",
      "metadata": {
        "id": "dKCNwAunXt7D",
        "colab_type": "code",
        "colab": {}
      },
      "source": [
        "mu_test = X_test.dot(Theta)"
      ],
      "execution_count": 0,
      "outputs": []
    },
    {
      "cell_type": "code",
      "metadata": {
        "id": "Oh4D0qC9X_Rj",
        "colab_type": "code",
        "colab": {}
      },
      "source": [
        "v = np.random.normal(mu_test, sigma_squared, 100)"
      ],
      "execution_count": 0,
      "outputs": []
    },
    {
      "cell_type": "code",
      "metadata": {
        "id": "MR6DwIWgX_N0",
        "colab_type": "code",
        "colab": {
          "base_uri": "https://localhost:8080/",
          "height": 296
        },
        "outputId": "9d19069f-a01a-4fda-f3ab-ce1a0dbab8be"
      },
      "source": [
        "fig = plt.figure(figsize=(8,4))\n",
        "plt.plot(x,y_obs,'.',label = 'Train Data')\n",
        "plt.plot(x_test, v,'o',label = 'p(y_star/X_start, Train Data, theta_MLE,Sigma^2)',color = 'b')\n",
        "plt.plot(x_test,mu_test,label = 'Underlining Distributions')\n",
        "plt.plot(x,y1_true,'-',label = 'MLE prediction')\n",
        "plt.xlabel('x_train and x_test')\n",
        "plt.ylabel('y_train and y_test')\n",
        "plt.title('Probalistic Regression')\n",
        "plt.legend()\n",
        "plt.show()"
      ],
      "execution_count": 12,
      "outputs": [
        {
          "output_type": "display_data",
          "data": {
            "image/png": "[encoded data removed]",
            "text/plain": [
              "<Figure size 576x288 with 1 Axes>"
            ]
          },
          "metadata": {
            "tags": [],
            "needs_background": "light"
          }
        }
      ]
    },
    {
      "cell_type": "code",
      "metadata": {
        "id": "MyeQEpksX_Je",
        "colab_type": "code",
        "colab": {}
      },
      "source": [
        ""
      ],
      "execution_count": 0,
      "outputs": []
    },
    {
      "cell_type": "code",
      "metadata": {
        "id": "PIEYdbS0Xt2o",
        "colab_type": "code",
        "colab": {}
      },
      "source": [
        ""
      ],
      "execution_count": 0,
      "outputs": []
    }
  ]
}